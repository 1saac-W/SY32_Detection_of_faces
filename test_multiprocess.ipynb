{
 "cells": [
  {
   "cell_type": "code",
   "execution_count": 2,
   "metadata": {},
   "outputs": [],
   "source": [
    "from  multiprocessing import Process,Pool\n",
    "import numpy as np"
   ]
  },
  {
   "cell_type": "code",
   "execution_count": 4,
   "metadata": {},
   "outputs": [],
   "source": [
    "def mp(a):\n",
    "    print(a)"
   ]
  },
  {
   "cell_type": "code",
   "execution_count": null,
   "metadata": {},
   "outputs": [],
   "source": [
    "if __name__ ==\"__main__\":\n",
    "    pool = Pool()\n",
    "    i = np.arange(1,20)\n",
    "\n",
    "    pool.map(mp, i)\n",
    "    pool.close()\n",
    "    pool.join()"
   ]
  },
  {
   "cell_type": "code",
   "execution_count": 4,
   "metadata": {},
   "outputs": [
    {
     "name": "stdout",
     "output_type": "stream",
     "text": [
      "1.0\n",
      "[0, 1, 2, 3, 4, 5, 6, 7, 8, 9]\n"
     ]
    }
   ],
   "source": [
    "import multiprocessing\n",
    "#Value/Array\n",
    "def func1(a,arr):\n",
    "    a.value=3.14\n",
    "    for i in range(len(arr)):\n",
    "        arr[i]=-arr[i]\n",
    "if __name__ == '__main__':\n",
    "    num=multiprocessing.Value('d',1.0)#num=0\n",
    "    arr=multiprocessing.Array('i',range(10))#arr=range(10)\n",
    "    p=multiprocessing.Process(target=func1,args=(num,arr))\n",
    "    p.start()\n",
    "    p.join()\n",
    "    print (num.value)\n",
    "    print (arr[:])"
   ]
  }
 ],
 "metadata": {
  "kernelspec": {
   "display_name": "Python 3",
   "language": "python",
   "name": "python3"
  },
  "language_info": {
   "codemirror_mode": {
    "name": "ipython",
    "version": 3
   },
   "file_extension": ".py",
   "mimetype": "text/x-python",
   "name": "python",
   "nbconvert_exporter": "python",
   "pygments_lexer": "ipython3",
   "version": "3.7.4"
  }
 },
 "nbformat": 4,
 "nbformat_minor": 4
}
